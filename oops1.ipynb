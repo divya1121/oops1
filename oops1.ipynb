{
 "cells": [
  {
   "cell_type": "code",
   "execution_count": null,
   "id": "8b4f38ce-f22c-4db2-9333-57f80013697c",
   "metadata": {},
   "outputs": [],
   "source": [
    "# Q1. Explain Class and Object with respect to Object-Oriented Programming. Give a suitable example."
   ]
  },
  {
   "cell_type": "code",
   "execution_count": null,
   "id": "9ef4f860-16b5-4536-9c59-eb400cc02604",
   "metadata": {},
   "outputs": [],
   "source": [
    "# ans:\n",
    "class: class are user defined data types that act as a blueprint for individual objects,attributes and methods.\n",
    "object:object are instance of a class.\n",
    "\n",
    "ex:\n",
    "    \n",
    "    Suppose we create a class Bike then we can create objects loke bike1,bike2,etc."
   ]
  },
  {
   "cell_type": "code",
   "execution_count": null,
   "id": "05e12f85-fadb-41c3-a7fb-023ddb6c57ab",
   "metadata": {},
   "outputs": [],
   "source": [
    "# Q2. Name the four pillars of OOPs."
   ]
  },
  {
   "cell_type": "code",
   "execution_count": null,
   "id": "3edd5c66-b772-4269-96bc-d9fb78206ef5",
   "metadata": {},
   "outputs": [],
   "source": [
    "four pillars of oops are:\n",
    "    1. Inheritance\n",
    "    2. Encapsulation\n",
    "    3. Polymorphism\n",
    "    4. Abstraction \n"
   ]
  },
  {
   "cell_type": "code",
   "execution_count": null,
   "id": "dfdbe869-40fd-436c-bccb-4c0dea2387cb",
   "metadata": {},
   "outputs": [],
   "source": [
    "# Q3. Explain why the __init__() function is used. Give a suitable example."
   ]
  },
  {
   "cell_type": "code",
   "execution_count": null,
   "id": "a9cabb16-f350-4aac-be8b-457f7679f5e6",
   "metadata": {},
   "outputs": [],
   "source": [
    "In oops init() function is a special method that is called when an obj is created from a class.\n",
    "This method allow us to initialize an objects attributes and perform any necessary setup."
   ]
  },
  {
   "cell_type": "code",
   "execution_count": 1,
   "id": "ebc82454-1463-41b2-80d4-8f0109ad4ef4",
   "metadata": {},
   "outputs": [
    {
     "name": "stdout",
     "output_type": "stream",
     "text": [
      "divya\n",
      "23\n"
     ]
    }
   ],
   "source": [
    "class Person:\n",
    "    def __init__(self,name,age):\n",
    "        self.name=name\n",
    "        self.age=age\n",
    "        \n",
    "p1=Person(\"divya\",23)\n",
    "print(p1.name)\n",
    "print(p1.age)"
   ]
  },
  {
   "cell_type": "code",
   "execution_count": null,
   "id": "fa93ce34-69d7-4675-a7ba-0870fd64b99e",
   "metadata": {},
   "outputs": [],
   "source": [
    "# Q4. Why self is used in OOPs?"
   ]
  },
  {
   "cell_type": "code",
   "execution_count": null,
   "id": "6f08f814-5c0a-46a8-971e-1f5cf4930927",
   "metadata": {},
   "outputs": [],
   "source": [
    "Self work as a reference to the object.\n",
    "in oops \"self\" is used to refer to the instance of the class itself. \n",
    "It is a reference variable that is used to access members of a class within the class itself."
   ]
  },
  {
   "cell_type": "code",
   "execution_count": null,
   "id": "c4c60b80-d548-4185-9606-48c1a8caf353",
   "metadata": {},
   "outputs": [],
   "source": [
    "# Q5. What is inheritance? Give an example for each type of inheritance."
   ]
  },
  {
   "cell_type": "code",
   "execution_count": null,
   "id": "8ec603ee-a45d-4ad9-aa0b-3bb3421c26f2",
   "metadata": {},
   "outputs": [],
   "source": [
    "Inheritance allows us to define a class that inherits all the methods and properties from another class."
   ]
  },
  {
   "cell_type": "code",
   "execution_count": null,
   "id": "e398e605-fdf7-4017-9702-542d497e7156",
   "metadata": {},
   "outputs": [],
   "source": [
    " Single inheritance: When a derived class inherits from a single base class."
   ]
  },
  {
   "cell_type": "code",
   "execution_count": 2,
   "id": "3588c0ce-72d0-45fb-8603-795142d12188",
   "metadata": {},
   "outputs": [
    {
     "name": "stdout",
     "output_type": "stream",
     "text": [
      "this is parent class\n",
      "this is child class\n"
     ]
    }
   ],
   "source": [
    "# ex:\n",
    "class Parent:\n",
    "    def fun1(self):\n",
    "        print(\"this is parent class\")\n",
    "        \n",
    "class Child(Parent):\n",
    "    def fun2(self):\n",
    "        print(\"this is child class\")\n",
    "        \n",
    "object=Child()\n",
    "object.fun1()\n",
    "object.fun2()\n",
    "        "
   ]
  },
  {
   "cell_type": "code",
   "execution_count": null,
   "id": "127bfbb7-6b93-4257-8d1e-8bcd2c3d1d15",
   "metadata": {},
   "outputs": [],
   "source": [
    "Multiple inheritance:When a class can be derived from more than one base class is called multiple inheritance."
   ]
  },
  {
   "cell_type": "code",
   "execution_count": 5,
   "id": "4588313d-46fb-4d58-8a1d-188fc86c3388",
   "metadata": {},
   "outputs": [
    {
     "name": "stdout",
     "output_type": "stream",
     "text": [
      "Mammals can give direct birth.\n",
      "Winged animals can flap.\n"
     ]
    }
   ],
   "source": [
    "class Mammal:\n",
    "    def mammal_info(self):\n",
    "        print(\"Mammals can give direct birth.\")\n",
    "\n",
    "class WingedAnimal:\n",
    "    def winged_animal_info(self):\n",
    "        print(\"Winged animals can flap.\")\n",
    "\n",
    "class Bat(Mammal, WingedAnimal):\n",
    "    pass\n",
    "\n",
    "b1 = Bat()\n",
    "\n",
    "b1.mammal_info()\n",
    "b1.winged_animal_info()\n"
   ]
  },
  {
   "cell_type": "code",
   "execution_count": null,
   "id": "fde9a858-315d-4f7e-9afa-5c1140617d94",
   "metadata": {},
   "outputs": [],
   "source": [
    "multilevel inheritance:\n",
    "    \n",
    "In multilevel inheritance, features of the base class and the derived class are further inherited into the new derived class. "
   ]
  },
  {
   "cell_type": "code",
   "execution_count": 11,
   "id": "29f08e52-b592-4867-b1d7-5bf8ae3a65e4",
   "metadata": {},
   "outputs": [
    {
     "name": "stdout",
     "output_type": "stream",
     "text": [
      "John Jr Jr\n",
      "Grandfather name is : John Jr Jr\n",
      "Father name is : John Jr\n",
      "Son name is : John\n"
     ]
    }
   ],
   "source": [
    "class Grandfather1:  \n",
    "  \n",
    "    def __init__(self, grandfathername1):  \n",
    "        self.grandfathername1 = grandfathername1  \n",
    "  \n",
    " \n",
    "class Father1(Grandfather1):  \n",
    "    def __init__(self, fathername1, grandfathername1):  \n",
    "        self.fathername1 = fathername1  \n",
    "  \n",
    "        # here, we will invoke the constructor of Grandfather class  \n",
    "        Grandfather1.__init__(self, grandfathername1)  \n",
    "  \n",
    "\n",
    "class Son1(Father1):  \n",
    "    def __init__(self,sonname1, fathername1, grandfathername1):  \n",
    "        self.sonname1 = sonname1  \n",
    "  \n",
    "        # here, we will invoke the constructor of Father class  \n",
    "        Father1.__init__(self, fathername1, grandfathername1)  \n",
    "  \n",
    "    def print_name(self):  \n",
    "        print('Grandfather name is :', self.grandfathername1)  \n",
    "        print(\"Father name is :\", self.fathername1)  \n",
    "        print(\"Son name is :\", self.sonname1)  \n",
    "  \n",
    " \n",
    "s1 = Son1('John', 'John Jr', 'John Jr Jr')  \n",
    "print (s1.grandfathername1)  \n",
    "s1.print_name()  \n"
   ]
  },
  {
   "cell_type": "code",
   "execution_count": null,
   "id": "258c98ed-dcfd-4dc7-a430-9ffae770d505",
   "metadata": {},
   "outputs": [],
   "source": [
    "Hierarchical inheritance:\n",
    "    If multiple derived classes are created from the same base, this kind of Inheritance is known as hierarchical inheritance."
   ]
  },
  {
   "cell_type": "code",
   "execution_count": 12,
   "id": "d867cc5e-5a38-4065-9c86-f3229e4e4974",
   "metadata": {},
   "outputs": [
    {
     "name": "stdout",
     "output_type": "stream",
     "text": [
      "This function is defined inside the parent class.\n",
      "This function is defined inside the child 1.\n",
      "This function is defined inside the parent class.\n",
      "This function is defined inside the child 2.\n"
     ]
    }
   ],
   "source": [
    "class Parent1:  \n",
    "    def func_1(self):  \n",
    "        print (\"This function is defined inside the parent class.\")  \n",
    "  \n",
    "  \n",
    "class Child_1(Parent1):  \n",
    "    def func_2(self):  \n",
    "        print (\"This function is defined inside the child 1.\")  \n",
    "    \n",
    "class Child_2(Parent1):  \n",
    "    def func_3(self):  \n",
    "        print (\"This function is defined inside the child 2.\")  \n",
    "        \n",
    "object1 = Child_1()  \n",
    "object2 = Child_2()  \n",
    "object1.func_1()  \n",
    "object1.func_2()  \n",
    "object2.func_1()  \n",
    "object2.func_3() "
   ]
  },
  {
   "cell_type": "code",
   "execution_count": null,
   "id": "689a16c5-27da-4362-a757-e272303d84af",
   "metadata": {},
   "outputs": [],
   "source": []
  }
 ],
 "metadata": {
  "kernelspec": {
   "display_name": "Python 3 (ipykernel)",
   "language": "python",
   "name": "python3"
  },
  "language_info": {
   "codemirror_mode": {
    "name": "ipython",
    "version": 3
   },
   "file_extension": ".py",
   "mimetype": "text/x-python",
   "name": "python",
   "nbconvert_exporter": "python",
   "pygments_lexer": "ipython3",
   "version": "3.10.8"
  }
 },
 "nbformat": 4,
 "nbformat_minor": 5
}
